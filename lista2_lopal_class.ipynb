{
  "nbformat": 4,
  "nbformat_minor": 0,
  "metadata": {
    "colab": {
      "provenance": [],
      "authorship_tag": "ABX9TyOfvOS9MxnjPgNPEQME+DAl",
      "include_colab_link": true
    },
    "kernelspec": {
      "name": "python3",
      "display_name": "Python 3"
    },
    "language_info": {
      "name": "python"
    }
  },
  "cells": [
    {
      "cell_type": "markdown",
      "metadata": {
        "id": "view-in-github",
        "colab_type": "text"
      },
      "source": [
        "<a href=\"https://colab.research.google.com/github/lucasmvaladao/lista2-python-lopal-classes/blob/main/lista2_lopal_class.ipynb\" target=\"_parent\"><img src=\"https://colab.research.google.com/assets/colab-badge.svg\" alt=\"Open In Colab\"/></a>"
      ]
    },
    {
      "cell_type": "markdown",
      "source": [
        "**1.Classe Retângulo**\n",
        "\n",
        "Crie uma classe que represente um retângulo com largura e altura. Adicione métodos para calcular a área e o perímetro.\n"
      ],
      "metadata": {
        "id": "QjwGinSV5eiO"
      }
    },
    {
      "cell_type": "code",
      "execution_count": null,
      "metadata": {
        "colab": {
          "base_uri": "https://localhost:8080/"
        },
        "id": "IqdsJGtvvQU0",
        "outputId": "a3fa92de-394c-4280-e5e5-e637d563b211"
      },
      "outputs": [
        {
          "output_type": "stream",
          "name": "stdout",
          "text": [
            "{'A área do retângulo é:': 64}\n",
            "{'O perimetro do retângulo é:': 32}\n"
          ]
        }
      ],
      "source": [
        "class Retan:\n",
        "\n",
        "  altura = 0\n",
        "  largura = 0\n",
        "\n",
        "  def __init__(self, altura, largura):\n",
        "    self.altura = altura\n",
        "    self.largura = largura\n",
        "\n",
        "  def area(self):\n",
        "    return { \"A área do retângulo é:\" : self.altura * self.largura }\n",
        "\n",
        "  def perimetro(self):\n",
        "    return { \"O perimetro do retângulo é:\" : 2 * (self.altura + self.largura)}\n",
        "\n",
        "objeto = Retan(8, 8)\n",
        "\n",
        "print(objeto.area())\n",
        "print(objeto.perimetro())"
      ]
    },
    {
      "cell_type": "markdown",
      "source": [
        "**2.Classe Círculo**\n",
        "\n",
        "Crie uma classe Circulo com atributo raio. Implemente métodos para calcular área e circunferência."
      ],
      "metadata": {
        "id": "vEQSb2o4_vud"
      }
    },
    {
      "cell_type": "code",
      "source": [
        "import math\n",
        "\n",
        "class Circulo:\n",
        "\n",
        "  def __init__(self, raio):\n",
        "    self.raio = raio\n",
        "\n",
        "  def area(self):\n",
        "    return { \"A área do circulo é: \": math.pi * self.raio ** 2}\n",
        "\n",
        "  def circu(self):\n",
        "    return {\"A circunferência do circulo é: \": 2 * math.pi * self.raio }\n",
        "\n",
        "objeto = Circulo(10)\n",
        "\n",
        "print(objeto.area())\n",
        "print(objeto.circu())\n"
      ],
      "metadata": {
        "colab": {
          "base_uri": "https://localhost:8080/"
        },
        "id": "7eQjVABSADdH",
        "outputId": "092f1035-0c06-41bb-cc3a-56e8fe822432"
      },
      "execution_count": null,
      "outputs": [
        {
          "output_type": "stream",
          "name": "stdout",
          "text": [
            "{'A área do circulo é: ': 314.1592653589793}\n",
            "{'A circunferência do circulo é: ': 62.83185307179586}\n"
          ]
        }
      ]
    },
    {
      "cell_type": "markdown",
      "source": [
        "**3.Classe Carro**\n",
        "\n",
        "Crie uma classe com atributos marca, modelo, ano. Adicione um método descricao()."
      ],
      "metadata": {
        "id": "SOsMzXrMGYdE"
      }
    },
    {
      "cell_type": "code",
      "source": [
        "class Carro:\n",
        "  def __init__(self, marca, modelo, ano):\n",
        "    self.marca = marca\n",
        "    self.modelo = modelo\n",
        "    self.ano = ano\n",
        "\n",
        "  def descricao(self):\n",
        "    return {self.marca, self.modelo, self.ano }\n",
        "\n",
        "\n",
        "objeto = Carro(\"FIAT\", \"UNO\", 2012)\n",
        "\n",
        "print(objeto.descricao())"
      ],
      "metadata": {
        "colab": {
          "base_uri": "https://localhost:8080/"
        },
        "id": "H3KRaJIIGbWM",
        "outputId": "fe2b3b74-c212-4019-ac23-f742c495de38"
      },
      "execution_count": null,
      "outputs": [
        {
          "output_type": "stream",
          "name": "stdout",
          "text": [
            "{'FIAT', 'UNO', 2012}\n"
          ]
        }
      ]
    },
    {
      "cell_type": "markdown",
      "source": [
        "**4.Classe Livro**\n",
        "\n",
        "Crie uma classe com título, autor, ano. Adicione um método que imprima os dados formatados.\n"
      ],
      "metadata": {
        "id": "O1GNbG54KNCw"
      }
    },
    {
      "cell_type": "code",
      "source": [
        "class Livro:\n",
        "\n",
        "  def __init__(self, titulo, autor, ano):\n",
        "    self.titulo = titulo\n",
        "    self.autor = autor\n",
        "    self.ano = ano\n",
        "\n",
        "  def imprimir(self):\n",
        "    return {\"O título\": self.titulo, \" foi publicado em \" : self.ano, \"pelo autor \": self.autor}\n",
        "\n",
        "\n",
        "meu_livro = Livro(\"Dom Casmurro\", \"Machado de Assis\", 1899)\n",
        "\n",
        "print(meu_livro.imprimir())"
      ],
      "metadata": {
        "colab": {
          "base_uri": "https://localhost:8080/"
        },
        "id": "OUfB5THUKOrO",
        "outputId": "39d2eb05-7b7b-497c-c6e0-4306329aa886"
      },
      "execution_count": null,
      "outputs": [
        {
          "output_type": "stream",
          "name": "stdout",
          "text": [
            "{'O título': 'Dom Casmurro', ' foi publicado em :': 1899, 'pelo autor ': 'Machado de Assis'}\n"
          ]
        }
      ]
    },
    {
      "cell_type": "markdown",
      "source": [
        "**5.Classe Aluno com Notas**\n",
        "\n",
        "Crie uma classe com nome e lista de notas. Implemente métodos para adicionar notas, calcular média e verificar aprovação."
      ],
      "metadata": {
        "id": "lLMCHIiNM0EN"
      }
    },
    {
      "cell_type": "code",
      "source": [
        "class Aluno:\n",
        "\n",
        "  def __init__(self, nome):\n",
        "    self.nome = nome\n",
        "    self.notas = []\n",
        "    self.media_final = 0\n",
        "\n",
        "  def adicionar_nota(self, nota):\n",
        "    self.notas.append(nota)\n",
        "\n",
        "  def media(self):\n",
        "    self.media_final = (sum(self.notas)/len(self.notas))\n",
        "    print(f\"A média do {self.nome} é: {self.media_final:.2f}\")\n",
        "    print(\"Notas do aluno:\")\n",
        "    print(self.notas)\n",
        "\n",
        "  def situacao(self):\n",
        "    if self.media_final > 6:\n",
        "      print(\"Aluno aprovado!\")\n",
        "    else:\n",
        "      print(f\"Aluno reprovado!\")\n",
        "\n"
      ],
      "metadata": {
        "id": "fZiFNoa6NVsm"
      },
      "execution_count": null,
      "outputs": []
    },
    {
      "cell_type": "code",
      "source": [
        "aluno_lucas = Aluno(\"Lucas\")\n",
        "\n",
        "aluno_lucas.adicionar_nota(5)\n",
        "aluno_lucas.adicionar_nota(15)\n",
        "aluno_lucas.adicionar_nota(50)\n",
        "\n",
        "aluno_lucas.media()\n",
        "aluno_lucas.situacao()"
      ],
      "metadata": {
        "colab": {
          "base_uri": "https://localhost:8080/"
        },
        "id": "Gq2gZ44yEgiA",
        "outputId": "3ad112fc-873c-4d1a-ec26-90bd4dbe141a"
      },
      "execution_count": null,
      "outputs": [
        {
          "output_type": "stream",
          "name": "stdout",
          "text": [
            "A média do Lucas é: 23.33\n",
            "Notas do aluno:\n",
            "[5, 15, 50]\n",
            "Aluno aprovado!\n"
          ]
        }
      ]
    },
    {
      "cell_type": "markdown",
      "source": [
        "**6.Classe Produto**\n",
        "\n",
        "Crie uma classe com nome, preço e quantidade_estoque. Adicione métodos para vender, repor e aplicar desconto."
      ],
      "metadata": {
        "id": "oYaVx3r8N3sv"
      }
    },
    {
      "cell_type": "code",
      "source": [
        "class Produto:\n",
        "\n",
        "   def __init__(self, nome, preco, quantidade_estoque):\n",
        "    self.nome = nome\n",
        "    self.preco = preco\n",
        "    self.quantidade_estoque = quantidade_estoque\n",
        "\n",
        "class Loja:\n",
        "\n",
        "  def __init__(self, nome):\n",
        "    self.nome = nome\n",
        "    self.estoque = []\n",
        "\n",
        "  def adicionar_produto(self, nome,valor, quantidade_estoque):\n",
        "    novo_produto = Produto(nome, valor, quantidade_estoque)\n",
        "    self.estoque.append(novo_produto)\n",
        "\n",
        "  def vender(self, nome):\n",
        "    for i in self.estoque:\n",
        "      if i.nome == nome:\n",
        "        if i.quantidade_estoque > 0:\n",
        "          i.quantidade_estoque -= 1\n",
        "          print(f\"Vendida 1 unidade de {i.nome}. Estoque restante: {i.quantidade_estoque}\")\n",
        "        else:\n",
        "          print(f\"Não há mais {i.nome} no estoque.\")\n",
        "\n",
        "  def repor(self, nome, quantidade):\n",
        "    for i in self.estoque:\n",
        "      if i.nome == nome:\n",
        "        i.quantidade_estoque += quantidade\n",
        "        print(f\"Colocado {quantidade} unidade(s) de {i.nome} no estoque. Estoque atualizado: {i.quantidade_estoque}\")\n",
        "      else:\n",
        "        print(f\"Não há {i.nome} no estoque.\")\n",
        "\n",
        "  def desconto(self, nome, desconto_em_reais):\n",
        "    for i in self.estoque:\n",
        "     if i.nome == nome:\n",
        "      i.preco -= desconto_em_reais\n",
        "      print(f\"Houve um desconto de {desconto_em_reais} raeis no preço do {nome}. Valor atualizado: {i.preco}\")\n",
        "    else:\n",
        "      pass\n",
        "\n",
        "loja_senai = Loja(\"LucasSenai\")\n",
        "loja_senai.adicionar_produto(\"Computador\", 999, 10)\n",
        "loja_senai.vender(\"Computador\")\n",
        "loja_senai.repor(\"Computador\", 2)\n",
        "loja_senai.desconto(\"Computador\", 20)"
      ],
      "metadata": {
        "colab": {
          "base_uri": "https://localhost:8080/"
        },
        "id": "VWoQsTlGphbP",
        "outputId": "15a0f633-4451-491f-80be-79c84ba7bd6c"
      },
      "execution_count": null,
      "outputs": [
        {
          "output_type": "stream",
          "name": "stdout",
          "text": [
            "Vendida 1 unidade de Computador. Estoque restante: 9\n",
            "Colocado 2 unidade(s) de Computador no estoque. Estoque atualizado: 11\n",
            "Houve um desconto de 20 raeis no preço do Computador. Valor atualizado: 979\n"
          ]
        }
      ]
    },
    {
      "cell_type": "markdown",
      "source": [
        "**7.Classe ContaBancaria**\n",
        "\n",
        "Crie uma classe com métodos depositar, sacar e extrato."
      ],
      "metadata": {
        "id": "VWn8cziVN9kV"
      }
    },
    {
      "cell_type": "code",
      "source": [
        "class ContaBancaria:\n",
        "\n",
        "  def __init__(self, nome, saldo = 0):\n",
        "    self.nome = nome\n",
        "    self.saldo = saldo\n",
        "\n",
        "  def depositar(self, valor):\n",
        "    self.saldo += valor\n",
        "\n",
        "  def sacar(self, valor):\n",
        "    self.saldo -= valor\n",
        "\n",
        "  def extrato (self):\n",
        "    print(f\"O usuario {self.nome} possui R${self.saldo}\")\n",
        "\n",
        "\n",
        "conta_senai = ContaBancaria(\"senai\") #Criar um objeto\n",
        "conta_senai.depositar(200)\n",
        "conta_senai.extrato()\n",
        "conta_senai.sacar(50)\n",
        "conta_senai.extrato()"
      ],
      "metadata": {
        "colab": {
          "base_uri": "https://localhost:8080/"
        },
        "id": "bvxwlH9jpr7W",
        "outputId": "3e5f63f8-6309-4a36-f26e-2ad30246b4b2"
      },
      "execution_count": null,
      "outputs": [
        {
          "output_type": "stream",
          "name": "stdout",
          "text": [
            "O usuario senai possui R$200\n",
            "O usuario senai possui R$150\n"
          ]
        }
      ]
    },
    {
      "cell_type": "markdown",
      "source": [
        "**8.Classe Elevador**\n",
        "\n",
        "A classe deve conter andar_atual, total_andares, capacidade e pessoas. Crie métodos para subir, descer, entrar e sair."
      ],
      "metadata": {
        "id": "Wk1J34MbOBr1"
      }
    },
    {
      "cell_type": "code",
      "source": [
        "class Elevador:\n",
        "    def __init__(self, pessoas = 0, capacidade=8, total_andares=5, andar_atual=1):\n",
        "        self.andar_atual = andar_atual\n",
        "        self.total_andares = total_andares\n",
        "        self.capacidade = capacidade\n",
        "        self.pessoas = pessoas\n",
        "\n",
        "    def subir(self, andar_novo):\n",
        "        if self.pessoas > self.capacidade:\n",
        "            print(\"Elevador acima da capacidade. Operação pausada.\")\n",
        "        elif andar_novo <= self.andar_atual:\n",
        "            print(\"Não tem como subir para um andar menor ou igual ao atual.\")\n",
        "        elif self.andar_atual >= self.total_andares:\n",
        "            print(\"Não há como subir, o andar atual é o último.\")\n",
        "        else:\n",
        "            self.andar_atual = andar_novo\n",
        "            print(f\"Subindo para o andar {self.andar_atual}.\")\n",
        "\n",
        "\n",
        "    def descer(self, andar_novo):\n",
        "      if self.pessoas > self.capacidade:\n",
        "        print(\"Elevador acima da capacidade. Operação pausada.\")\n",
        "      elif andar_novo >= self.andar_atual:\n",
        "        print(\"Não tem como descer para um andar maior ou igual ao atual.\")\n",
        "      elif self.andar_atual <= 1:\n",
        "        print(\"Não há como descer, o andar atual é o térreo.\")\n",
        "      else:\n",
        "        self.andar_atual = andar_novo\n",
        "        print(f\"Descendo para o andar {self.andar_atual}.\")\n",
        "\n",
        "\n",
        "    def entrar(self, quantidade_pessoas):\n",
        "      if self.pessoas + quantidade_pessoas > self.capacidade:\n",
        "        qntd_permitida = self.capacidade - self.pessoas\n",
        "        print(f\"Elevador acima da capacidade. Só é permitido mais {qntd_permitida} pessoas. \")\n",
        "      else:\n",
        "        self.pessoas += quantidade_pessoas\n",
        "        print(f\"{quantidade_pessoas} pessoas entraram no elevador com sucesso! \")\n",
        "\n",
        "    def sair(self, quantidade_pessoas):\n",
        "      self.pessoas -= quantidade_pessoas\n",
        "      print(f\"{quantidade_pessoas} pessoas sairam do elevador com sucesso! \")\n"
      ],
      "metadata": {
        "id": "NxSPWVlzptqH"
      },
      "execution_count": null,
      "outputs": []
    },
    {
      "cell_type": "code",
      "source": [
        "elevador_senai = Elevador()\n",
        "\n",
        "elevador_senai.entrar(4)\n",
        "elevador_senai.entrar(5)\n",
        "\n",
        "elevador_senai.sair(2)\n",
        "\n",
        "elevador_senai.subir(4)\n",
        "elevador_senai.subir(5)\n",
        "elevador_senai.subir(5)\n",
        "elevador_senai.subir(6)\n",
        "elevador_senai.subir(3)\n",
        "\n",
        "elevador_senai.descer(4)\n",
        "elevador_senai.descer(5)\n",
        "elevador_senai.descer(3)"
      ],
      "metadata": {
        "colab": {
          "base_uri": "https://localhost:8080/"
        },
        "id": "GAQUHdAz5UnX",
        "outputId": "16a6e648-f392-4ad0-f675-d121940862d2"
      },
      "execution_count": null,
      "outputs": [
        {
          "output_type": "stream",
          "name": "stdout",
          "text": [
            "4 pessoas entraram no elevador com sucesso! \n",
            "Elevador acima da capacidade. Só é permitido mais 4 pessoas. \n",
            "2 pessoas sairam do elevador com sucesso! \n",
            "Subindo para o andar 4.\n",
            "Subindo para o andar 5.\n",
            "Não tem como subir para um andar menor ou igual ao atual.\n",
            "Não há como subir, o andar atual é o último.\n",
            "Não tem como subir para um andar menor ou igual ao atual.\n",
            "Descendo para o andar 4.\n",
            "Não tem como descer para um andar maior ou igual ao atual.\n",
            "Descendo para o andar 3.\n"
          ]
        }
      ]
    },
    {
      "cell_type": "markdown",
      "source": [
        "**9.Classe Agenda**\n",
        "\n",
        "Permita adicionar, listar e buscar contatos com nome e telefone."
      ],
      "metadata": {
        "id": "kuYYjAihOHcO"
      }
    },
    {
      "cell_type": "code",
      "source": [
        "class Contato:\n",
        "  def __init__(self, nome, numero):\n",
        "    self.nome = nome\n",
        "    self.numero = numero\n",
        "\n",
        "class Agenda:\n",
        "  def __init__(self, nome):\n",
        "    self.nome = nome\n",
        "    self.contatos = []\n",
        "\n",
        "  def adicionar(self, nome, numero):\n",
        "    novo_contato = Contato(nome, numero)\n",
        "    self.contatos.append(novo_contato)\n",
        "\n",
        "  def listar(self):\n",
        "    for indice , item in enumerate(self.contatos):\n",
        "      print(f\"{indice} - Nome: {item.nome}  Telefone: {item.numero}\")\n",
        "\n",
        "  def buscar(self, nome):\n",
        "    for indice, item in enumerate(self.contatos):\n",
        "      if item.nome == nome :\n",
        "        print(f\"{item.nome} - {item.numero}\")\n",
        "      else:\n",
        "        print(\"Usuário não localizado na agenda.\")\n",
        "\n",
        "agenda_senai = Agenda(\"Lucas\")\n",
        "agenda_senai.adicionar(\"Carlos\", \"(11) 91338 9399\")\n",
        "agenda_senai.listar()\n",
        "agenda_senai.buscar(\"Carlos\")"
      ],
      "metadata": {
        "colab": {
          "base_uri": "https://localhost:8080/"
        },
        "id": "POUxaNPapuIO",
        "outputId": "78be293f-67eb-4b8d-c913-1ca4ac49a95d"
      },
      "execution_count": null,
      "outputs": [
        {
          "output_type": "stream",
          "name": "stdout",
          "text": [
            "0 - Nome: Carlos  Telefone: (11) 91338 9399\n",
            "Carlos - (11) 91338 9399\n"
          ]
        }
      ]
    },
    {
      "cell_type": "markdown",
      "source": [
        "**10.Classe Pedido com Itens**\n",
        "\n",
        "Crie uma classe que represente um pedido contendo vários produtos. Calcule o valor total."
      ],
      "metadata": {
        "id": "Em3YkqE1OMzV"
      }
    },
    {
      "cell_type": "code",
      "source": [
        "class Item:\n",
        "    def __init__(self, descricao, valor):\n",
        "        self.descricao = descricao\n",
        "        self.valor = valor\n",
        "\n",
        "class Pedido:\n",
        "    def __init__(self):\n",
        "        self.pedidos = {}\n",
        "\n",
        "    def adicionar(self, descricao, valor):\n",
        "        chaveItem = 'Item_' + str(len(self.pedidos))\n",
        "        item = Item(descricao, valor)\n",
        "        self.pedidos.update({chaveItem: item})\n",
        "\n",
        "    def lista(self):\n",
        "        for chave in self.pedidos:\n",
        "            print(f\"{chave}: {self.pedidos[chave].descricao} - R${self.pedidos[chave].valor}\")\n",
        "\n",
        "    def soma(self):\n",
        "        total = sum(item.valor for item in self.pedidos.values())\n",
        "        print(f\"Total do pedido: R${total}\")\n",
        "\n",
        "pedido_senai = Pedido()\n",
        "pedido_senai.adicionar(\"Prego\", 10)\n",
        "pedido_senai.adicionar(\"Lousa\", 15)\n",
        "pedido_senai.lista()\n",
        "pedido_senai.soma()\n"
      ],
      "metadata": {
        "colab": {
          "base_uri": "https://localhost:8080/"
        },
        "id": "8tPghKbcpup2",
        "outputId": "4a4743db-e491-413f-96ab-2205c08882c2"
      },
      "execution_count": null,
      "outputs": [
        {
          "output_type": "stream",
          "name": "stdout",
          "text": [
            "Item_0: Prego - R$10\n",
            "Item_1: Lousa - R$15\n",
            "Total do pedido: R$25\n"
          ]
        }
      ]
    },
    {
      "cell_type": "markdown",
      "source": [
        "**11.Classe Funcionario com Aumento Salarial**\n",
        "\n",
        "Crie atributos nome e salario. Adicione um método que aplique aumento percentual."
      ],
      "metadata": {
        "id": "X3MkDSP3OXs3"
      }
    },
    {
      "cell_type": "code",
      "source": [
        "class Funcionarios:\n",
        "\n",
        "  def __init__(self,nome, salario):\n",
        "    self.nome = nome\n",
        "    self.salario = salario\n",
        "\n",
        "\n",
        "class Empresa:\n",
        "\n",
        "  def __init__(self):\n",
        "    self.lista_funcionarios = []\n",
        "\n",
        "  def adicionar_funcionario(self, nome, salario):\n",
        "   novo_fun = Funcionarios(nome, salario)\n",
        "   self.lista_funcionarios.append(novo_fun)\n",
        "   print(\"Funcionario cadastrado com sucesso!\")\n",
        "\n",
        "  def imprimir_funcionarios(self):\n",
        "    print(\"\\n Lista de funcionários: \\n\")\n",
        "    for i in self.lista_funcionarios:\n",
        "      print(f\"Nome: {i.nome}, Salário: R$ {i.salario}\")\n",
        "\n",
        "\n",
        "class AumentoSalarial:\n",
        "\n",
        "  def __init__(self, empresa):\n",
        "    self.empresa = empresa\n",
        "\n",
        "  def aumento(self, nome, percentual):\n",
        "    encontrado = False\n",
        "    for item in self.empresa.lista_funcionarios:\n",
        "      if item.nome == nome:\n",
        "        aumento = item.salario * percentual / 100\n",
        "        item.salario += aumento\n",
        "        print(f\"Salário de {nome} atualizado com sucesso para o valor de R${item.salario} \")\n",
        "        encontrado = True\n",
        "        break\n",
        "    if not encontrado:\n",
        "        print(\"Usuário não cadastrado no sistema.\")\n"
      ],
      "metadata": {
        "id": "xpAI1QWHpvJu"
      },
      "execution_count": null,
      "outputs": []
    },
    {
      "cell_type": "markdown",
      "source": [
        "**12.Classe Lista Encadeada**\n",
        "\n",
        "Crie uma classe de lista encadeada, com os seguintes métodos:\n",
        "\n",
        "* \tadicionar item no final da lista\n",
        "* \tadicionar item no começo da lista\n",
        "* \tremover item no final da lista\n",
        "* \tremoter item no começo da lista\n"
      ],
      "metadata": {
        "id": "4VucgRxbOiT-"
      }
    },
    {
      "cell_type": "code",
      "source": [
        "class No:\n",
        "    def __init__(self, valor):\n",
        "        self.valor = valor\n",
        "        self.proximo = None\n",
        "\n",
        "class ListaEncadeada:\n",
        "    def __init__(self):\n",
        "        self.inicio = None\n",
        "\n",
        "    def adicionar_final(self, valor):\n",
        "        novo_no = No(valor)\n",
        "        if self.inicio is None:\n",
        "            self.inicio = novo_no\n",
        "        else:\n",
        "            atual = self.inicio\n",
        "            while atual.proximo:\n",
        "                atual = atual.proximo\n",
        "            atual.proximo = novo_no\n",
        "\n",
        "    def adicionar_inicio(self, valor):\n",
        "        novo_no = No(valor)\n",
        "        novo_no.proximo = self.inicio\n",
        "        self.inicio = novo_no\n",
        "\n",
        "    def remover_final(self):\n",
        "        if self.inicio is None:\n",
        "            print(\"Lista vazia.\")\n",
        "            return\n",
        "        if self.inicio.proximo is None:\n",
        "            self.inicio = None\n",
        "        else:\n",
        "            atual = self.inicio\n",
        "            while atual.proximo.proximo:\n",
        "                atual = atual.proximo\n",
        "            atual.proximo = None\n",
        "\n",
        "    def remover_inicio(self):\n",
        "        if self.inicio is None:\n",
        "            print(\"Lista vazia.\")\n",
        "        else:\n",
        "            self.inicio = self.inicio.proximo\n",
        "\n",
        "    def exibir(self):\n",
        "        atual = self.inicio\n",
        "        while atual:\n",
        "            print(atual.valor, end=\" -> \")\n",
        "            atual = atual.proximo\n",
        "        print(\"None\")"
      ],
      "metadata": {
        "id": "ZDS-F-tbpwBf"
      },
      "execution_count": null,
      "outputs": []
    },
    {
      "cell_type": "code",
      "source": [
        "lista = ListaEncadeada()\n",
        "\n",
        "lista.adicionar_final(10)\n",
        "lista.adicionar_final(20)\n",
        "lista.adicionar_inicio(5)\n",
        "lista.exibir()\n",
        "\n",
        "lista.remover_final()\n",
        "lista.exibir()\n",
        "\n",
        "lista.remover_inicio()\n",
        "lista.exibir()\n"
      ],
      "metadata": {
        "colab": {
          "base_uri": "https://localhost:8080/"
        },
        "id": "Qf7qWFNbpCVQ",
        "outputId": "3d9d02e9-d75e-4232-daa9-f0ccb9e8c390"
      },
      "execution_count": null,
      "outputs": [
        {
          "output_type": "stream",
          "name": "stdout",
          "text": [
            "5 -> 10 -> 20 -> None\n",
            "5 -> 10 -> None\n",
            "10 -> None\n"
          ]
        }
      ]
    },
    {
      "cell_type": "markdown",
      "source": [
        "**13.Classe Lista Encadeada Dupla**\n",
        "\n",
        "Crie uma classe de lista encadeada dupla, com os seguintes métodos:\n",
        "*\tadicionar item no final da lista\n",
        "*\tadicionar item no começo da lista\n",
        "*\tremover item no final da lista\n",
        "*\tremoter item no começo da lista"
      ],
      "metadata": {
        "id": "sojwL-FAOrZe"
      }
    },
    {
      "cell_type": "code",
      "source": [
        "class NoDuplo:\n",
        "    def __init__(self, valor):\n",
        "        self.valor = valor\n",
        "        self.proximo = None\n",
        "        self.anterior = None\n",
        "\n",
        "class ListaEncadeadaDupla:\n",
        "    def __init__(self):\n",
        "        self.inicio = None\n",
        "        self.fim = None\n",
        "\n",
        "    def adicionar_final(self, valor):\n",
        "        novo_no = NoDuplo(valor)\n",
        "        if self.fim is None:\n",
        "            self.inicio = self.fim = novo_no\n",
        "        else:\n",
        "            self.fim.proximo = novo_no\n",
        "            novo_no.anterior = self.fim\n",
        "            self.fim = novo_no\n",
        "\n",
        "    def adicionar_inicio(self, valor):\n",
        "        novo_no = NoDuplo(valor)\n",
        "        if self.inicio is None:\n",
        "            self.inicio = self.fim = novo_no\n",
        "        else:\n",
        "            novo_no.proximo = self.inicio\n",
        "            self.inicio.anterior = novo_no\n",
        "            self.inicio = novo_no\n",
        "\n",
        "    def remover_final(self):\n",
        "        if self.fim is None:\n",
        "            print(\"Lista vazia.\")\n",
        "            return\n",
        "        if self.inicio == self.fim:\n",
        "            self.inicio = self.fim = None\n",
        "        else:\n",
        "            self.fim = self.fim.anterior\n",
        "            self.fim.proximo = None\n",
        "\n",
        "    def remover_inicio(self):\n",
        "        if self.inicio is None:\n",
        "            print(\"Lista vazia.\")\n",
        "            return\n",
        "        if self.inicio == self.fim:\n",
        "            self.inicio = self.fim = None\n",
        "        else:\n",
        "            self.inicio = self.inicio.proximo\n",
        "            self.inicio.anterior = None\n",
        "\n",
        "    def exibir(self):\n",
        "        atual = self.inicio\n",
        "        while atual:\n",
        "            print(atual.valor, end=\" <-> \")\n",
        "            atual = atual.proximo\n",
        "        print(\"None\")\n"
      ],
      "metadata": {
        "id": "8TdthpB9pxS_"
      },
      "execution_count": null,
      "outputs": []
    },
    {
      "cell_type": "code",
      "source": [
        "lista = ListaEncadeadaDupla()\n",
        "\n",
        "lista.adicionar_final(10)\n",
        "lista.adicionar_final(20)\n",
        "lista.adicionar_inicio(5)\n",
        "lista.exibir()\n",
        "\n",
        "lista.remover_final()\n",
        "lista.exibir()\n",
        "\n",
        "lista.remover_inicio()\n",
        "lista.exibir()\n"
      ],
      "metadata": {
        "id": "tO9Dss5xpY3e",
        "outputId": "9a781def-b94c-4bbe-bd52-10e86a8b97da",
        "colab": {
          "base_uri": "https://localhost:8080/"
        }
      },
      "execution_count": null,
      "outputs": [
        {
          "output_type": "stream",
          "name": "stdout",
          "text": [
            "5 <-> 10 <-> 20 <-> None\n",
            "5 <-> 10 <-> None\n",
            "10 <-> None\n"
          ]
        }
      ]
    },
    {
      "cell_type": "markdown",
      "source": [
        "14. Criar uma classe ContaBancaria com um atributo saldo privado. Implemente métodos depositar(valor) e sacar(valor). Impedir saque se o valor for maior que o saldo."
      ],
      "metadata": {
        "id": "t0lFvceoQBuq"
      }
    },
    {
      "cell_type": "code",
      "source": [
        "class Conta_Bancaria:\n",
        "\n",
        "  def __init__(self, saldo):\n",
        "    self.__saldo = saldo\n",
        "\n",
        "  def depositar(self, valor):\n",
        "    if valor < 2:\n",
        "      print(\"Não é possível fazer um deposito menor que R$2,00.\")\n",
        "    else:\n",
        "      self.__saldo += valor\n",
        "      print(f\"Após o deposito de R${valor} saldo bancário atualizado para R${self.__saldo}\")\n",
        "\n",
        "  def sacar(self, valor):\n",
        "    if valor > self.__saldo:\n",
        "      print(\"Não é possível fazer um saque maior que o saldo atual.\")\n",
        "    elif valor < 2:\n",
        "      print(\"Não é possível fazer um saque menor que R$2,00.\")\n",
        "    else:\n",
        "      self.__saldo -= valor\n",
        "      print(f\"Após o saque de R${valor} saldo bancário atualizado para R${self.__saldo}\")\n",
        "\n",
        "\n"
      ],
      "metadata": {
        "id": "ulOIvn80QKm5"
      },
      "execution_count": null,
      "outputs": []
    },
    {
      "cell_type": "code",
      "source": [
        "Conta_Lucas = Conta_Bancaria(1000)\n",
        "\n",
        "Conta_Lucas.depositar(200)\n",
        "Conta_Lucas.depositar(1)\n",
        "\n",
        "Conta_Lucas.sacar(100)\n",
        "Conta_Lucas.sacar(1)\n",
        "Conta_Lucas.sacar(1500)"
      ],
      "metadata": {
        "colab": {
          "base_uri": "https://localhost:8080/"
        },
        "id": "JztK19QXO0Jn",
        "outputId": "672d3804-625d-4ecd-c856-3df330bb68f0"
      },
      "execution_count": null,
      "outputs": [
        {
          "output_type": "stream",
          "name": "stdout",
          "text": [
            "Após o deposito de R$200 saldo bancário atualizado para R$1200\n",
            "Não é possível fazer um deposito menor que R$2,00.\n",
            "Após o saque de R$100 saldo bancário atualizado para R$1100\n",
            "Não é possível fazer um saque menor que R$2,00.\n",
            "Não é possível fazer um saque maior que o saldo atual.\n"
          ]
        }
      ]
    },
    {
      "cell_type": "markdown",
      "source": [
        "15. Crie uma classe Aluno com os atributos privados nome, nota1 e nota2. Implemente um método media() que retorna a média das notas, e use getters/setters para acessar os atributos.\n",
        "\n"
      ],
      "metadata": {
        "id": "shfdEaU1QHXC"
      }
    },
    {
      "cell_type": "code",
      "source": [
        "class Alune:\n",
        "\n",
        "  def __init__(self, nome, nota1, nota2):\n",
        "    self.__nome = nome\n",
        "    self.__nota1 = nota1\n",
        "    self.__nota2 = nota2\n",
        "\n",
        "  def get_nome(self):\n",
        "    print(f\"O nome do aluno é {self.__nome}\")\n",
        "\n",
        "  def get_nota1(self):\n",
        "    print(f\"Nota 1: {self.__nota1}\")\n",
        "\n",
        "  def get_nota2(self):\n",
        "    print(f\"Nota 2: {self.__nota2}\")\n",
        "\n",
        "  def set_nome(self, novo_nome):\n",
        "    self.__nome = novo_nome\n",
        "    print(f\"Nome atualizado com sucesso para: {self.__nome}\")\n",
        "\n",
        "  def set_nota1(self, nova_nota1):\n",
        "    self.__nota1 = nova_nota1\n",
        "    print(f\"Nota 1 atualizada para: {self.__nota1}\")\n",
        "\n",
        "  def set_nota2(self, nova_nota2):\n",
        "    self.__nota2 = nova_nota2\n",
        "    print(f\"Nota 2 atualizada para: {self.__nota2}\")\n",
        "\n",
        "  def media(self):\n",
        "    media_nota = (self.__nota1 + self.__nota2) /  2\n",
        "    print(f\"A média das notas do aluno é: {media_nota}\")"
      ],
      "metadata": {
        "id": "6jHodzp9QHpZ"
      },
      "execution_count": null,
      "outputs": []
    },
    {
      "cell_type": "code",
      "source": [
        "aluno_miguel = Alune(\"Miguel\", 10, 6)\n",
        "aluno_miguel.media()\n",
        "aluno_miguel.get_nome()\n",
        "aluno_miguel.get_nota1()\n",
        "aluno_miguel.get_nota2()\n",
        "aluno_miguel.set_nome(\"Miguel Fernades Bueno Siqueira\")\n",
        "aluno_miguel.set_nota1(9)\n",
        "aluno_miguel.set_nota2(9)\n",
        "print(\"-------------\")\n",
        "aluno_miguel.media()\n",
        "aluno_miguel.get_nome()\n",
        "aluno_miguel.get_nota1()\n",
        "aluno_miguel.get_nota2()\n"
      ],
      "metadata": {
        "colab": {
          "base_uri": "https://localhost:8080/"
        },
        "id": "ocb4hr3-VkHh",
        "outputId": "eb4e52a7-6f08-4259-d609-a0d244f359ff"
      },
      "execution_count": null,
      "outputs": [
        {
          "output_type": "stream",
          "name": "stdout",
          "text": [
            "A média das notas do aluno é: 8.0\n",
            "O nome do aluno é Miguel\n",
            "Nota 1: 10\n",
            "Nota 2: 6\n",
            "Nome atualizado com sucesso para: Miguel Fernades Bueno Siqueira\n",
            "Nota 1 atualizada para: 9\n",
            "Nota 2 atualizada para: 9\n",
            "-------------\n",
            "A média das notas do aluno é: 9.0\n",
            "O nome do aluno é Miguel Fernades Bueno Siqueira\n",
            "Nota 1: 9\n",
            "Nota 2: 9\n"
          ]
        }
      ]
    },
    {
      "cell_type": "markdown",
      "source": [
        "16. Modifique a classe ContaBancaria do exercício 1 para que, ao tentar sacar um valor inválido, uma mensagem de erro seja exibida usando encapsulamento para proteger os dados.\n"
      ],
      "metadata": {
        "id": "jYsgjHnFQQ_y"
      }
    },
    {
      "cell_type": "code",
      "source": [
        "class ContaBancaria2:\n",
        "\n",
        "  def __init__(self, nome, saldo = 0):\n",
        "    self.nome = nome\n",
        "    self.__saldo = saldo\n",
        "\n",
        "  def depositar(self, valor):\n",
        "    self.__saldo += valor\n",
        "\n",
        "  def sacar(self, valor):\n",
        "   if valor > self.__saldo:\n",
        "    print(\"Não é possível fazer um saque maior que o saldo atual.\")\n",
        "   else:\n",
        "    self.__saldo -= valor\n",
        "\n",
        "  def extrato (self):\n",
        "    print(f\"O usuario {self.nome} possui R${self.__saldo}\")\n",
        "\n",
        "\n",
        "conta_senai = ContaBancaria2(\"senai\") #Criar um objeto\n",
        "conta_senai.depositar(200)\n",
        "conta_senai.extrato()\n",
        "conta_senai.sacar(50)\n",
        "conta_senai.extrato()"
      ],
      "metadata": {
        "id": "96kl79QMQTEh",
        "colab": {
          "base_uri": "https://localhost:8080/"
        },
        "outputId": "5055b7af-4f0e-4ba8-e348-3ab7ac241db5"
      },
      "execution_count": null,
      "outputs": [
        {
          "output_type": "stream",
          "name": "stdout",
          "text": [
            "O usuario senai possui R$200\n",
            "O usuario senai possui R$150\n"
          ]
        }
      ]
    },
    {
      "cell_type": "markdown",
      "source": [
        "\n",
        "17. Implemente a classe Produto com atributos privados nome e preco. Crie um método aplicar_desconto(percentual) que modifica o preço, mas sem permitir que ele fique abaixo de zero.\n"
      ],
      "metadata": {
        "id": "oX--jZ_CQTXJ"
      }
    },
    {
      "cell_type": "code",
      "source": [
        "class Produto:\n",
        "  def __init__(self, nome, preco):\n",
        "    self.__nome = nome\n",
        "    self.__preco = preco\n",
        "\n",
        "  def aplicar_desconto(self, percentual):\n",
        "    valor_descontado = self.__preco * percentual / 100\n",
        "    if self.__preco - valor_descontado <= 0:\n",
        "      print(f\"Não é possível aplicar um desconto como este de {percentual}%\")\n",
        "    else:\n",
        "      self.__preco -= valor_descontado\n",
        "      print(f\"Com um desconto de {percentual}% o valor do produto foi atualizo para R${self.__preco:.2f}\")"
      ],
      "metadata": {
        "id": "1EyT43s4QVGB"
      },
      "execution_count": null,
      "outputs": []
    },
    {
      "cell_type": "code",
      "source": [
        "produtoNovo = Produto(\"Computador\", 1000)\n",
        "produtoNovo.aplicar_desconto(100)\n",
        "produtoNovo.aplicar_desconto(10)\n"
      ],
      "metadata": {
        "colab": {
          "base_uri": "https://localhost:8080/"
        },
        "id": "6W-lVuKRpX5S",
        "outputId": "a5172818-5e5b-4131-d310-050dc919608e"
      },
      "execution_count": null,
      "outputs": [
        {
          "output_type": "stream",
          "name": "stdout",
          "text": [
            "Não é possível aplicar um desconto como este de 100%\n",
            "Com um desconto de 10% o valor do produto foi atualizo para R$900.00\n"
          ]
        }
      ]
    },
    {
      "cell_type": "markdown",
      "source": [
        "\n",
        "18. Crie a classe Temperatura com um atributo privado _celsius e dois métodos públicos get_fahrenheit() e set_fahrenheit(valor) que convertam entre Celsius e Fahrenheit.\n"
      ],
      "metadata": {
        "id": "84ggjrb8QVqR"
      }
    },
    {
      "cell_type": "code",
      "source": [
        "class Temperatura:\n",
        "  def __init__(self, celsius):\n",
        "    self.__celsius = celsius\n",
        "\n",
        "  def get_fahrenheit(self):\n",
        "    conversao1 = self.__celsius * 9 / 5 + 32\n",
        "    print(f\"A temperatura atual está em {conversao1:.1f}°F\")\n",
        "\n",
        "  def set_fahrenheit(self, valor):\n",
        "    self.__celsius = (valor - 32) * 5 / 9\n",
        "    print(f\"Temperatura atualizada para {self.__celsius:.1f}°C\")\n",
        "\n",
        "\n"
      ],
      "metadata": {
        "id": "mJye1wdDQXlJ"
      },
      "execution_count": null,
      "outputs": []
    },
    {
      "cell_type": "code",
      "source": [
        "temp = Temperatura(20)\n",
        "temp.get_fahrenheit()\n",
        "temp.set_fahrenheit(100)"
      ],
      "metadata": {
        "colab": {
          "base_uri": "https://localhost:8080/"
        },
        "id": "m-bnOCiZeOjD",
        "outputId": "57e38153-3356-4fe8-ee93-820f60f5e9c3"
      },
      "execution_count": null,
      "outputs": [
        {
          "output_type": "stream",
          "name": "stdout",
          "text": [
            "A temperatura atual está em 68.0°F\n",
            "Temperatura atualizada para 37.8°C\n"
          ]
        }
      ]
    },
    {
      "cell_type": "markdown",
      "source": [
        "\n",
        "19. Crie a classe base Veiculo com atributos marca e modelo, e um método exibir_info(). Crie duas classes filhas Carro e Moto que herdam de Veiculo.\n"
      ],
      "metadata": {
        "id": "WDChlqErQX9q"
      }
    },
    {
      "cell_type": "code",
      "source": [
        "class Veiculo:\n",
        "\n",
        "  def __init__(self, marca, modelo):\n",
        "    self.marca = marca\n",
        "    self.modelo = modelo\n",
        "\n",
        "  def exibir_info(self):\n",
        "    print(f\"Informações sobre o veiculo: Marca - {self.marca} / Modelo - {self.modelo} \")\n",
        "\n",
        "class Carro(Veiculo):\n",
        "  def __init__(self, marca, modelo):\n",
        "    super().__init__(marca, modelo)\n",
        "\n",
        "class Moto(Veiculo):\n",
        "   def __init__(self, marca, modelo):\n",
        "    super().__init__(marca, modelo)"
      ],
      "metadata": {
        "id": "XP9e1t-RQaLR"
      },
      "execution_count": null,
      "outputs": []
    },
    {
      "cell_type": "code",
      "source": [
        "veiculo = Carro(\"Toyota\", \"Corolla\")\n",
        "veiculo.exibir_info()"
      ],
      "metadata": {
        "colab": {
          "base_uri": "https://localhost:8080/"
        },
        "id": "XcNdrVPikkgq",
        "outputId": "d8cd444a-67c2-4d80-abfd-fb88d5f55912"
      },
      "execution_count": null,
      "outputs": [
        {
          "output_type": "stream",
          "name": "stdout",
          "text": [
            "Informações sobre o veiculo: Marca - Toyota / Modelo - Corolla \n"
          ]
        }
      ]
    },
    {
      "cell_type": "markdown",
      "source": [
        "\n",
        "20. Adicione um método ligar() nas classes Carro e Moto que exibe mensagens diferentes. Teste com uma instância de cada classe.\n"
      ],
      "metadata": {
        "id": "1esHj1mAQakJ"
      }
    },
    {
      "cell_type": "code",
      "source": [
        "class Veiculo:\n",
        "\n",
        "  def __init__(self, marca, modelo):\n",
        "    self.marca = marca\n",
        "    self.modelo = modelo\n",
        "\n",
        "  def exibir_info(self):\n",
        "    print(f\"Informações sobre o veiculo: Marca - {self.marca} / Modelo - {self.modelo} \")\n",
        "\n",
        "class Carro(Veiculo):\n",
        "  def __init__(self, marca, modelo):\n",
        "    super().__init__(marca, modelo)\n",
        "\n",
        "  def ligar(self):\n",
        "      print(f\"{self.modelo} ligando... SAI DE PERTO LOKOO\")\n",
        "\n",
        "class Moto(Veiculo):\n",
        "   def __init__(self, marca, modelo):\n",
        "    super().__init__(marca, modelo)\n",
        "\n",
        "   def ligar(self):\n",
        "      print(f\"{self.modelo} ligando... NEM O FLESH ACOMPANHA\")"
      ],
      "metadata": {
        "id": "uPhteP50QcJS"
      },
      "execution_count": null,
      "outputs": []
    },
    {
      "cell_type": "code",
      "source": [
        "veiculo1 = Carro(\"Toyota\", \"Corolla\")\n",
        "veiculo2 = Moto(\"Honda\", \"CG 160\")\n",
        "veiculo1.exibir_info()\n",
        "veiculo1.ligar()\n",
        "print(\"---------\")\n",
        "veiculo2.exibir_info()\n",
        "veiculo2.ligar()"
      ],
      "metadata": {
        "colab": {
          "base_uri": "https://localhost:8080/"
        },
        "id": "VQ69ymRVl82q",
        "outputId": "12f7b10f-f4f9-4662-bc3b-f8861b252245"
      },
      "execution_count": null,
      "outputs": [
        {
          "output_type": "stream",
          "name": "stdout",
          "text": [
            "Informações sobre o veiculo: Marca - Toyota / Modelo - Corolla \n",
            "Corolla ligando... SAI DE PERTO LOKOO\n",
            "---------\n",
            "Informações sobre o veiculo: Marca - Honda / Modelo - CG 160 \n",
            "CG 160 ligando... NEM O FLESH ACOMPANHA\n"
          ]
        }
      ]
    },
    {
      "cell_type": "markdown",
      "source": [
        "\n",
        "21. Crie a classe Funcionario com nome e salário. Crie Gerente e Vendedor como subclasses, adicionando atributos específicos. Exiba as informações usando herança.\n"
      ],
      "metadata": {
        "id": "Y_kNeBDjQc_Z"
      }
    },
    {
      "cell_type": "code",
      "source": [
        "class Funcionario2:\n",
        "    def __init__(self, nome, salario):\n",
        "        self.nome = nome\n",
        "        self.salario = salario\n",
        "\n",
        "    def exibir_informacoes(self):\n",
        "        print(f\"Nome: {self.nome}\")\n",
        "        print(f\"Salário: R${self.salario:.2f}\")\n",
        "\n",
        "class Gerente(Funcionario2):\n",
        "    def __init__(self, nome, salario, qtd_subordinados):\n",
        "        super().__init__(nome, salario)\n",
        "        self.qtd_subordinados = qtd_subordinados\n",
        "\n",
        "    def exibir_informacoes(self):\n",
        "        super().exibir_informacoes()\n",
        "        print(f\"Quantidade de funcionários a gerenciar: {self.qtd_subordinados}\")\n",
        "\n",
        "class Vendedor(Funcionario2):\n",
        "    def __init__(self, nome, salario, qtd_marcas):\n",
        "        super().__init__(nome, salario)\n",
        "        self.qtd_marcas = qtd_marcas\n",
        "\n",
        "    def exibir_informacoes(self):\n",
        "        super().exibir_informacoes()\n",
        "        print(f\"Quantidade de marcas a gerenciar: {self.qtd_marcas}\")\n",
        "\n",
        "\n",
        "print(\"=== Gerente ===\")\n",
        "gerente = Gerente(\"Cláudia\", 8000, 10)\n",
        "gerente.exibir_informacoes()\n",
        "\n",
        "print(\"\\n=== Vendedor ===\")\n",
        "vendedor = Vendedor(\"Rafael\", 3200, 5)\n",
        "vendedor.exibir_informacoes()"
      ],
      "metadata": {
        "id": "eVzhi68cQfI-",
        "colab": {
          "base_uri": "https://localhost:8080/"
        },
        "outputId": "508d620c-f568-450f-e9e2-5fae94524616"
      },
      "execution_count": null,
      "outputs": [
        {
          "output_type": "stream",
          "name": "stdout",
          "text": [
            "=== Gerente ===\n",
            "Nome: Cláudia\n",
            "Salário: R$8000.00\n",
            "Quantidade de funcionários a gerenciar: 10\n",
            "\n",
            "=== Vendedor ===\n",
            "Nome: Rafael\n",
            "Salário: R$3200.00\n",
            "Quantidade de marcas a gerenciar: 5\n"
          ]
        }
      ]
    },
    {
      "cell_type": "markdown",
      "source": [
        "\n",
        "22. Utilize super() na classe Gerente do exercício anterior para reaproveitar o construtor da superclasse Funcionario.\n"
      ],
      "metadata": {
        "id": "CwhXlYVzQfqh"
      }
    },
    {
      "cell_type": "markdown",
      "source": [
        "**-- feito no exercício acima --**"
      ],
      "metadata": {
        "id": "gZ_Ihy9r2lqR"
      }
    },
    {
      "cell_type": "markdown",
      "source": [
        "\n",
        "23. Crie uma classe Animal com método falar(). Crie as subclasses Cachorro e Gato que sobrescrevem esse método com sons específicos.\n"
      ],
      "metadata": {
        "id": "nQEwdh5EQhtC"
      }
    },
    {
      "cell_type": "code",
      "source": [
        "\n",
        "class Animal:\n",
        "    def __init__(self, nome):\n",
        "        self.nome = nome\n",
        "\n",
        "    def falar(self):\n",
        "       print(\"O animal esta falando\")\n",
        "\n",
        "class Cachorro(Animal):\n",
        "    def __init__(self, nome):\n",
        "        super().__init__(nome)\n",
        "\n",
        "    def falar(self):\n",
        "        print(\"AU AU AU\")\n",
        "\n",
        "\n",
        "class Gato(Animal):\n",
        "    def __init__(self, nome):\n",
        "        super().__init__(nome)\n",
        "\n",
        "    def falar(self):\n",
        "        print(\"MIAU MIAU MIAU\")\n",
        "\n"
      ],
      "metadata": {
        "id": "TzVjGWRTQjNy"
      },
      "execution_count": null,
      "outputs": []
    },
    {
      "cell_type": "code",
      "source": [
        "cachorro = Cachorro(\"cachorro Caramelo\")\n",
        "gato = Gato(\"Gato do Egito\")\n",
        "\n",
        "cachorro.falar()\n",
        "gato.falar()"
      ],
      "metadata": {
        "colab": {
          "base_uri": "https://localhost:8080/"
        },
        "id": "tCetNzYO4On1",
        "outputId": "d166ba73-0de0-449e-91a9-e3700b3a15b0"
      },
      "execution_count": null,
      "outputs": [
        {
          "output_type": "stream",
          "name": "stdout",
          "text": [
            "AUAUAUAUAU\n",
            "MIAU MIAU MIAU\n"
          ]
        }
      ]
    },
    {
      "cell_type": "markdown",
      "source": [
        "\n",
        "24. Crie uma função fazer_som(animal) que recebe um objeto e chama animal.falar(). Teste com Cachorro, Gato, Passaro, todos herdando de Animal com método sobrescrito falar().\n"
      ],
      "metadata": {
        "id": "EZD8VcJNQjpB"
      }
    },
    {
      "cell_type": "code",
      "source": [
        "class Animal:\n",
        "    def falar(self):\n",
        "        print(\"Som genérico de animal.\")\n",
        "\n",
        "class Cachorro(Animal):\n",
        "    def falar(self):\n",
        "        print(\"AU AU AU!\")\n",
        "\n",
        "class Gato(Animal):\n",
        "    def falar(self):\n",
        "        print(\"MIAU MIAU MIAU!\")\n",
        "\n",
        "class Passaro(Animal):\n",
        "    def falar(self):\n",
        "        print(\"PIU PIU PIU!\")\n",
        "\n",
        "def fazer_som(animal):\n",
        "    animal.falar()\n"
      ],
      "metadata": {
        "id": "hnrmR2bMQk9h"
      },
      "execution_count": null,
      "outputs": []
    },
    {
      "cell_type": "code",
      "source": [
        "cachorro_golden = Cachorro()\n",
        "gato_siames = Gato()\n",
        "passaro_sabia = Passaro()\n",
        "\n",
        "fazer_som(cachorro_golden)\n",
        "fazer_som(gato_siames)\n",
        "fazer_som(passaro_sabia)"
      ],
      "metadata": {
        "colab": {
          "base_uri": "https://localhost:8080/"
        },
        "id": "TYmg4ot4510V",
        "outputId": "167d830b-b73c-4f4f-8362-a5a67ed84bb0"
      },
      "execution_count": null,
      "outputs": [
        {
          "output_type": "stream",
          "name": "stdout",
          "text": [
            "AU AU AU!\n",
            "MIAU MIAU MIAU!\n",
            "PIU PIU PIU!\n"
          ]
        }
      ]
    },
    {
      "cell_type": "markdown",
      "source": [
        "\n",
        "25. Crie uma função calcular_pagamento(funcionario), que funciona com objetos de Funcionario, Gerente e Estagiario, cada um com sua lógica própria de cálculo."
      ],
      "metadata": {
        "id": "ne0Z-0ZRQlUp"
      }
    },
    {
      "cell_type": "code",
      "source": [
        "class Funcionario2:\n",
        "    def __init__(self, nome, valor_hora):\n",
        "        self.nome = nome\n",
        "        self.valor_hora = valor_hora\n",
        "\n",
        "    def exibir_informacoes(self):\n",
        "        print(f\"Nome: {self.nome}\")\n",
        "        print(f\"Valor por hora: R${self.valor_hora:.2f}\")\n",
        "\n",
        "\n",
        "class Gerente(Funcionario2):\n",
        "    def __init__(self, nome, valor_hora):\n",
        "        super().__init__(nome, valor_hora)\n",
        "\n",
        "    def exibir_informacoes(self):\n",
        "        super().exibir_informacoes()\n",
        "        print(\"Cargo: Gerente\")\n",
        "\n",
        "\n",
        "class Vendedor(Funcionario2):\n",
        "    def __init__(self, nome, valor_hora):\n",
        "        super().__init__(nome, valor_hora)\n",
        "\n",
        "    def exibir_informacoes(self):\n",
        "        super().exibir_informacoes()\n",
        "        print(\"Cargo: Vendedor\")\n",
        "\n",
        "\n",
        "\n",
        "class Estagiario(Funcionario2):\n",
        "    def __init__(self, nome, valor_hora):\n",
        "        super().__init__(nome, valor_hora)\n",
        "\n",
        "    def exibir_informacoes(self):\n",
        "        super().exibir_informacoes()\n",
        "        print(\"Cargo: Estagiário\")\n",
        "\n",
        "\n",
        "\n",
        "def calcular_pagamento(funcionario):\n",
        "    if isinstance(funcionario, Gerente):\n",
        "        pagamento = funcionario.valor_hora * 40\n",
        "        print(f\"{funcionario.nome} receberá: R${pagamento:.2f}\")\n",
        "    elif isinstance(funcionario, Vendedor):\n",
        "        pagamento = funcionario.valor_hora * 35\n",
        "        print(f\"{funcionario.nome} receberá: R${pagamento:.2f}\")\n",
        "    elif isinstance(funcionario, Estagiario):\n",
        "        pagamento = funcionario.valor_hora * 30\n",
        "        print(f\"{funcionario.nome} receberá: R${pagamento:.2f}\")\n",
        "    else:\n",
        "        print(\"Tipo de funcionário desconhecido.\")"
      ],
      "metadata": {
        "id": "lQFpvJTXQl7q"
      },
      "execution_count": null,
      "outputs": []
    },
    {
      "cell_type": "code",
      "source": [
        "gerente = Gerente(\"Cláudia\", 100)\n",
        "vendedor = Vendedor(\"Rafael\", 50)\n",
        "estagiario = Estagiario(\"Lucas\", 20)\n",
        "\n",
        "\n",
        "gerente.exibir_informacoes()\n",
        "calcular_pagamento(gerente)\n",
        "\n",
        "print(\"  \")\n",
        "vendedor.exibir_informacoes()\n",
        "calcular_pagamento(vendedor)\n",
        "\n",
        "print(\"  \")\n",
        "estagiario.exibir_informacoes()\n",
        "calcular_pagamento(estagiario)"
      ],
      "metadata": {
        "colab": {
          "base_uri": "https://localhost:8080/"
        },
        "id": "GLT673YVaMew",
        "outputId": "624d2bcf-3046-464d-cffc-c78e50ca4f85"
      },
      "execution_count": null,
      "outputs": [
        {
          "output_type": "stream",
          "name": "stdout",
          "text": [
            "Nome: Cláudia\n",
            "Valor por hora: R$100.00\n",
            "Cargo: Gerente\n",
            "Cláudia receberá: R$4000.00\n",
            "  \n",
            "Nome: Rafael\n",
            "Valor por hora: R$50.00\n",
            "Cargo: Vendedor\n",
            "Rafael receberá: R$1750.00\n",
            "  \n",
            "Nome: Lucas\n",
            "Valor por hora: R$20.00\n",
            "Cargo: Estagiário\n",
            "Lucas receberá: R$600.00\n"
          ]
        }
      ]
    }
  ]
}